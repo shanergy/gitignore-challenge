{
 "cells": [
  {
   "cell_type": "code",
   "execution_count": 1,
   "metadata": {},
   "outputs": [],
   "source": [
    "# using 01-Lesson-Plans / 06-Python-APIs / 1 / Activities / 06-Ins_OMDbRequests / Solved / Ins_OMDbRequests\n",
    "# altering activity by placing api_key in config.py file to test .gitignore of the config.py file"
   ]
  },
  {
   "cell_type": "code",
   "execution_count": 2,
   "metadata": {},
   "outputs": [],
   "source": [
    "# import dependencies\n",
    "import requests\n",
    "import json\n",
    "from pprint import pprint\n",
    "from config import api_key"
   ]
  },
  {
   "cell_type": "code",
   "execution_count": 3,
   "metadata": {},
   "outputs": [],
   "source": [
    "# Note that the ?t= is a query param for the t-itle of the\n",
    "# movie we want to search for.\n",
    "url = \"http://www.omdbapi.com/?t=\""
   ]
  },
  {
   "cell_type": "code",
   "execution_count": 4,
   "metadata": {},
   "outputs": [
    {
     "name": "stdout",
     "output_type": "stream",
     "text": [
      "http://www.omdbapi.com/?t=Beavis%20&%20Butthead&apikey=trilogy\n"
     ]
    }
   ],
   "source": [
    "# Performing a GET request similar to the one we executed\n",
    "# earlier\n",
    "response = requests.get(url + \"Beavis & Butthead\" + api_key)\n",
    "print(response.url)"
   ]
  },
  {
   "cell_type": "code",
   "execution_count": 5,
   "metadata": {},
   "outputs": [
    {
     "name": "stdout",
     "output_type": "stream",
     "text": [
      "{'Actors': 'Mike Judge, Bruce Willis, Demi Moore, Cloris Leachman',\n",
      " 'Awards': '1 win & 4 nominations.',\n",
      " 'BoxOffice': 'N/A',\n",
      " 'Country': 'USA',\n",
      " 'DVD': '23 Nov 1999',\n",
      " 'Director': 'Mike Judge, Mike de Seve, Brian Mulroney, Yvette Kaplan',\n",
      " 'Genre': 'Animation, Adventure, Comedy, Crime, Music',\n",
      " 'Language': 'English, Spanish, Hindi',\n",
      " 'Metascore': '64',\n",
      " 'Plot': 'The dim-witted teen duo of Beavis and Butt-Head travel across '\n",
      "         'America in search of their stolen television set.',\n",
      " 'Poster': 'https://m.media-amazon.com/images/M/MV5BNWY3NmNlYzYtNzY5Yy00Y2Q1LWE1NWEtYzQ2NDM4YTMyYjVmXkEyXkFqcGdeQXVyMTQxNzMzNDI@._V1_SX300.jpg',\n",
      " 'Production': 'Paramount Home Video',\n",
      " 'Rated': 'PG-13',\n",
      " 'Ratings': [{'Source': 'Internet Movie Database', 'Value': '6.8/10'},\n",
      "             {'Source': 'Rotten Tomatoes', 'Value': '72%'},\n",
      "             {'Source': 'Metacritic', 'Value': '64/100'}],\n",
      " 'Released': '20 Dec 1996',\n",
      " 'Response': 'True',\n",
      " 'Runtime': '81 min',\n",
      " 'Title': 'Beavis and Butt-Head Do America',\n",
      " 'Type': 'movie',\n",
      " 'Website': 'N/A',\n",
      " 'Writer': 'Mike Judge, Joe Stillman, Brian Mulroney (additional material)',\n",
      " 'Year': '1996',\n",
      " 'imdbID': 'tt0115641',\n",
      " 'imdbRating': '6.8',\n",
      " 'imdbVotes': '49,358'}\n"
     ]
    }
   ],
   "source": [
    "# Converting the response to JSON, and printing the result.\n",
    "data = response.json()\n",
    "pprint(data)"
   ]
  },
  {
   "cell_type": "code",
   "execution_count": 6,
   "metadata": {},
   "outputs": [
    {
     "name": "stdout",
     "output_type": "stream",
     "text": [
      "Movie was directed by Mike Judge, Mike de Seve, Brian Mulroney, Yvette Kaplan.\n",
      "Movie was released in USA.\n"
     ]
    }
   ],
   "source": [
    "# Print a few keys from the response JSON.\n",
    "print(f\"Movie was directed by {data['Director']}.\")\n",
    "print(f\"Movie was released in {data['Country']}.\")"
   ]
  },
  {
   "cell_type": "code",
   "execution_count": null,
   "metadata": {},
   "outputs": [],
   "source": []
  }
 ],
 "metadata": {
  "kernelspec": {
   "display_name": "Python 3",
   "language": "python",
   "name": "python3"
  },
  "language_info": {
   "codemirror_mode": {
    "name": "ipython",
    "version": 3
   },
   "file_extension": ".py",
   "mimetype": "text/x-python",
   "name": "python",
   "nbconvert_exporter": "python",
   "pygments_lexer": "ipython3",
   "version": "3.7.4"
  }
 },
 "nbformat": 4,
 "nbformat_minor": 2
}
